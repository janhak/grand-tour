{
 "cells": [
  {
   "cell_type": "code",
   "execution_count": 36,
   "metadata": {},
   "outputs": [],
   "source": [
    "\"\"\"Hidden Gem chock full of exciting functions for\n",
    "efficient looping.\"\"\"\n",
    "\n",
    "from itertools import islice, count, groupby\n",
    "from collections import deque"
   ]
  },
  {
   "cell_type": "code",
   "execution_count": 9,
   "metadata": {},
   "outputs": [
    {
     "name": "stdout",
     "output_type": "stream",
     "text": [
      "[1, 2, 3, 4]\n"
     ]
    }
   ],
   "source": [
    "def take(n, iterable):\n",
    "    \"\"\"Return first n items of iterable as a list\"\"\"\n",
    "    return list(islice(iterable, n))\n",
    "\n",
    "print(take(4, range(1, 1231)))"
   ]
  },
  {
   "cell_type": "code",
   "execution_count": 8,
   "metadata": {},
   "outputs": [
    {
     "name": "stdout",
     "output_type": "stream",
     "text": [
      "[4, 9, 16, 25]\n"
     ]
    }
   ],
   "source": [
    "def tabulate(function, start=0):\n",
    "    \"\"\"Return function(0), function(1), ...\"\"\"\n",
    "    return map(function, count(start))\n",
    "\n",
    "print(take(4, tabulate(lambda x: x**2, start=2)))"
   ]
  },
  {
   "cell_type": "code",
   "execution_count": 15,
   "metadata": {},
   "outputs": [
    {
     "name": "stdout",
     "output_type": "stream",
     "text": [
      "[7, 8, 9, 10]\n"
     ]
    }
   ],
   "source": [
    "def tail(n, iterable):\n",
    "    \"\"\"Return n last items of iterable as a list\"\"\"\n",
    "    return list(deque(iterable, maxlen=n))\n",
    "\n",
    "print(tail(4, range(11)))"
   ]
  },
  {
   "cell_type": "code",
   "execution_count": 7,
   "metadata": {},
   "outputs": [
    {
     "name": "stdout",
     "output_type": "stream",
     "text": [
      "<_collections._deque_iterator object at 0x7f7d5429f0e8>\n"
     ]
    }
   ],
   "source": [
    "def tail_iter(n, iterable):\n",
    "    \"\"\"Return n last items of iterable as a list\"\"\"\n",
    "    return iter(deque(iterable, maxlen=n))\n",
    "\n",
    "print(tail_iter(4, range(11)))"
   ]
  },
  {
   "cell_type": "code",
   "execution_count": 32,
   "metadata": {},
   "outputs": [],
   "source": [
    "# TODO check why this code isn't working\n",
    "def consume(iterator, n):\n",
    "    \"\"\"Advance the iterator n-steps. If n is None, consume\n",
    "    entire iterator.\"\"\"\n",
    "    if n is None:\n",
    "        # Feed entire iterator into zero length deque\n",
    "        deque(iterator, maxlen=0)\n",
    "    else:\n",
    "        next(islice(iterator, n, n), None)"
   ]
  },
  {
   "cell_type": "code",
   "execution_count": 34,
   "metadata": {},
   "outputs": [
    {
     "data": {
      "text/plain": [
       "5"
      ]
     },
     "execution_count": 34,
     "metadata": {},
     "output_type": "execute_result"
    }
   ],
   "source": [
    "def nth(iterable, n, default=None):\n",
    "    \"\"\"Returns the nth item from iterator or default value\"\"\"\n",
    "    return next(islice(iterable, n, None), default)\n",
    "\n",
    "n = range(10)\n",
    "nth(n, 5)\n"
   ]
  },
  {
   "cell_type": "code",
   "execution_count": null,
   "metadata": {},
   "outputs": [],
   "source": [
    "def all_equal(iterable):\n",
    "    g = groupby(iterable)\n",
    "    return next(g, True) and not next(g, False)\n",
    "\n",
    "r = [1] * 10\n",
    "all_equal(r)\n",
    "    "
   ]
  },
  {
   "cell_type": "code",
   "execution_count": null,
   "outputs": [],
   "source": [
    ""
   ]
  }
 ],
 "metadata": {},
 "nbformat": 4,
 "nbformat_minor": 0
}