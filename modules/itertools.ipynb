{
 "cells": [
  {
   "cell_type": "code",
   "execution_count": 104,
   "metadata": {},
   "outputs": [],
   "source": [
    "\"\"\"Hidden Gem chock full of exciting functions for\n",
    "efficient looping.\"\"\"\n",
    "\n",
    "from itertools import (islice, count, groupby, chain, repeat, \n",
    "                       starmap, tee, cycle, zip_longest, \n",
    "                       filterfalse)\n",
    "from collections import deque\n",
    "import operator"
   ]
  },
  {
   "cell_type": "code",
   "execution_count": 9,
   "metadata": {},
   "outputs": [
    {
     "name": "stdout",
     "output_type": "stream",
     "text": [
      "[1, 2, 3, 4]\n"
     ]
    }
   ],
   "source": [
    "def take(n, iterable):\n",
    "    \"\"\"Return first n items of iterable as a list\"\"\"\n",
    "    return list(islice(iterable, n))\n",
    "\n",
    "print(take(4, range(1, 1231)))"
   ]
  },
  {
   "cell_type": "code",
   "execution_count": 8,
   "metadata": {},
   "outputs": [
    {
     "name": "stdout",
     "output_type": "stream",
     "text": [
      "[4, 9, 16, 25]\n"
     ]
    }
   ],
   "source": [
    "def tabulate(function, start=0):\n",
    "    \"\"\"Return function(0), function(1), ...\"\"\"\n",
    "    return map(function, count(start))\n",
    "\n",
    "print(take(4, tabulate(lambda x: x**2, start=2)))"
   ]
  },
  {
   "cell_type": "code",
   "execution_count": 15,
   "metadata": {},
   "outputs": [
    {
     "name": "stdout",
     "output_type": "stream",
     "text": [
      "[7, 8, 9, 10]\n"
     ]
    }
   ],
   "source": [
    "def tail(n, iterable):\n",
    "    \"\"\"Return n last items of iterable as a list\"\"\"\n",
    "    return list(deque(iterable, maxlen=n))\n",
    "\n",
    "print(tail(4, range(11)))"
   ]
  },
  {
   "cell_type": "code",
   "execution_count": 7,
   "metadata": {},
   "outputs": [
    {
     "name": "stdout",
     "output_type": "stream",
     "text": [
      "<_collections._deque_iterator object at 0x7f7d5429f0e8>\n"
     ]
    }
   ],
   "source": [
    "def tail_iter(n, iterable):\n",
    "    \"\"\"Return n last items of iterable as a list\"\"\"\n",
    "    return iter(deque(iterable, maxlen=n))\n",
    "\n",
    "print(tail_iter(4, range(11)))"
   ]
  },
  {
   "cell_type": "code",
   "execution_count": 32,
   "metadata": {},
   "outputs": [],
   "source": [
    "# TODO check why this code isn't working\n",
    "def consume(iterator, n):\n",
    "    \"\"\"Advance the iterator n-steps. If n is None, consume\n",
    "    entire iterator.\"\"\"\n",
    "    if n is None:\n",
    "        # Feed entire iterator into zero length deque\n",
    "        deque(iterator, maxlen=0)\n",
    "    else:\n",
    "        next(islice(iterator, n, n), None)"
   ]
  },
  {
   "cell_type": "code",
   "execution_count": 34,
   "metadata": {},
   "outputs": [
    {
     "data": {
      "text/plain": [
       "5"
      ]
     },
     "execution_count": 34,
     "metadata": {},
     "output_type": "execute_result"
    }
   ],
   "source": [
    "def nth(iterable, n, default=None):\n",
    "    \"\"\"Returns the nth item from iterator or default value\"\"\"\n",
    "    return next(islice(iterable, n, None), default)\n",
    "\n",
    "n = range(10)\n",
    "nth(n, 5)"
   ]
  },
  {
   "cell_type": "code",
   "execution_count": 38,
   "metadata": {},
   "outputs": [
    {
     "name": "stdout",
     "output_type": "stream",
     "text": [
      "True\n"
     ]
    }
   ],
   "source": [
    "def all_equal(iterable):\n",
    "    g = groupby(iterable)\n",
    "    return next(g, True) and not next(g, False)\n",
    "\n",
    "r = [1] * 10\n",
    "print(all_equal(r))"
   ]
  },
  {
   "cell_type": "code",
   "execution_count": 49,
   "metadata": {},
   "outputs": [
    {
     "name": "stdout",
     "output_type": "stream",
     "text": [
      "Group 1 Elements: [1, 1, 1, 1, 1]\nGroup 2 Elements: [2, 2, 2, 2]\nGroup 3 Elements: [3]\nGroup 4 Elements: [4]\nGroup 5 Elements: [5, 5]\nGroup 6 Elements: [6, 6, 6]\n"
     ]
    }
   ],
   "source": [
    "list_with_multiples = [1, 1, 1, 2, 2, 1, 3, 4, 5, 6, 6, 6, 2, 2, 1, 5]\n",
    "list_with_multiples.sort()\n",
    "for k, v in groupby(list_with_multiples):\n",
    "    print('Group {}'.format(k), end=' ')\n",
    "    print('Elements: {}'.format(list(v)))"
   ]
  },
  {
   "cell_type": "code",
   "execution_count": 55,
   "metadata": {},
   "outputs": [
    {
     "data": {
      "text/plain": [
       "6"
      ]
     },
     "execution_count": 55,
     "metadata": {},
     "output_type": "execute_result"
    }
   ],
   "source": [
    "def quantify(iterable, pred=bool):\n",
    "    \"\"\"Count how many timed predicate is True.\"\"\"\n",
    "    return sum(map(pred, iterable))\n",
    "\n",
    "quantify(range(11), pred=lambda x: x <= 5)\n",
    "\n",
    "# IMHO the one below is more Pythonic\n",
    "sum(1 for x in range(11) if x <= 5)"
   ]
  },
  {
   "cell_type": "code",
   "execution_count": 66,
   "metadata": {},
   "outputs": [
    {
     "name": "stdout",
     "output_type": "stream",
     "text": [
      "True\n"
     ]
    }
   ],
   "source": [
    "def padnone(iterable):\n",
    "    \"\"\"Return sequence elements followed by None indefinitely.\"\"\"\n",
    "    return chain(iterable, repeat(None))"
   ]
  },
  {
   "cell_type": "code",
   "execution_count": 73,
   "metadata": {},
   "outputs": [
    {
     "name": "stdout",
     "output_type": "stream",
     "text": [
      "[0, 1, 2, 3, 0, 1, 2, 3, 0, 1, 2, 3]\n"
     ]
    }
   ],
   "source": [
    "def ncycles(iterable, n):\n",
    "    return chain.from_iterable(repeat(iterable, n))\n",
    "\n",
    "a_list = [x for x in ncycles(range(4), 3)]\n",
    "print(a_list)"
   ]
  },
  {
   "cell_type": "code",
   "execution_count": 76,
   "metadata": {},
   "outputs": [
    {
     "data": {
      "text/plain": [
       "18"
      ]
     },
     "execution_count": 76,
     "metadata": {},
     "output_type": "execute_result"
    }
   ],
   "source": [
    "# Doesn't really relate to itertools more to functional coding in python\n",
    "def dotproduct(vec1, vec2):\n",
    "    return sum(map(operator.mul, vec1, vec2))\n",
    "\n",
    "dotproduct([1, 1, 1], [4, 6, 8])"
   ]
  },
  {
   "cell_type": "code",
   "execution_count": 79,
   "metadata": {},
   "outputs": [
    {
     "data": {
      "text/plain": [
       "[1, [2, 5, 6], 5, 7, 8, 8, 8, 8]"
      ]
     },
     "execution_count": 79,
     "metadata": {},
     "output_type": "execute_result"
    }
   ],
   "source": [
    "def flatten(list_of_lists):\n",
    "    \"\"\"Flatten one level of nesting\"\"\"\n",
    "    return chain.from_iterable(list_of_lists)\n",
    "\n",
    "list(flatten([[1, [2, 5, 6]], [5, 7, 8], [8, 8, 8]]))"
   ]
  },
  {
   "cell_type": "code",
   "execution_count": 93,
   "metadata": {},
   "outputs": [
    {
     "data": {
      "text/plain": [
       "17"
      ]
     },
     "execution_count": 93,
     "metadata": {},
     "output_type": "execute_result"
    }
   ],
   "source": [
    "def repeatfunc(func, *args, times=None):\n",
    "    \"\"\"Repeat calls to func with specified arguments.\"\"\"\n",
    "    return starmap(func, repeat(args, times or 1))\n",
    "\n",
    "a = repeatfunc(sum, (4, 6, 7))\n",
    "next(a)"
   ]
  },
  {
   "cell_type": "code",
   "execution_count": 85,
   "metadata": {},
   "outputs": [
    {
     "data": {
      "text/plain": [
       "[10, 13, 25]"
      ]
     },
     "execution_count": 85,
     "metadata": {},
     "output_type": "execute_result"
    }
   ],
   "source": [
    "def sum_of_squares(x, y):\n",
    "    return x ** 2 + y ** 2\n",
    "\n",
    "iterable = zip([1, 2, 3], [3, 3, 4])\n",
    "list(starmap(sum_of_squares, iterable))"
   ]
  },
  {
   "cell_type": "code",
   "execution_count": 98,
   "metadata": {},
   "outputs": [
    {
     "data": {
      "text/plain": [
       "[(0, 1),\n (1, 2),\n (2, 3),\n (3, 4),\n (4, 5),\n (5, 6),\n (6, 7),\n (7, 8),\n (8, 9),\n (9, 10)]"
      ]
     },
     "execution_count": 98,
     "metadata": {},
     "output_type": "execute_result"
    }
   ],
   "source": [
    "def pairwise(iterable):\n",
    "    \"\"\"s -> (s0, s1), (s1, s2), ...\"\"\"\n",
    "    a, b = tee(iterable) \n",
    "    next(b)\n",
    "    return zip(a, b)\n",
    "\n",
    "s = range(11)\n",
    "list(pairwise(s))"
   ]
  },
  {
   "cell_type": "code",
   "execution_count": 103,
   "metadata": {},
   "outputs": [
    {
     "data": {
      "text/plain": [
       "[(0, 1, 2), (3, 4, 5), (6, 7, 8), (9, 10, 'X')]"
      ]
     },
     "execution_count": 103,
     "metadata": {},
     "output_type": "execute_result"
    }
   ],
   "source": [
    "def grouper(iterable, n, fillvalue=None):\n",
    "    \"\"\"Collect data into fixed-length chunks.\"\"\"\n",
    "    args = [iter(iterable)] * n\n",
    "    return zip_longest(*args, fillvalue=fillvalue)\n",
    "\n",
    "list(grouper(range(11), 3, 'X'))"
   ]
  },
  {
   "cell_type": "code",
   "execution_count": 110,
   "metadata": {},
   "outputs": [
    {
     "name": "stdout",
     "output_type": "stream",
     "text": [
      "1 3 5 7 9\n0 2 4 6 8 10\n"
     ]
    }
   ],
   "source": [
    "def partition(pred, iterable):\n",
    "    \"\"\"Use predicate to partition iterable into\n",
    "    false and true entries.\"\"\"\n",
    "    t1, t2 = tee(iterable)\n",
    "    return filterfalse(pred, t1), filter(pred, t2)\n",
    "\n",
    "false, true = partition(lambda x: x % 2 == 0, range(11))\n",
    "print(*false)\n",
    "print(*true)"
   ]
  },
  {
   "cell_type": "code",
   "execution_count": null,
   "metadata": {},
   "outputs": [],
   "source": [
    "def unique_everseen(iterable, key=None):\n",
    "    \"\"\"List unique elements, preserving order.\"\"\"\n",
    "    seen = set()\n",
    "    if key is None:\n",
    "        for element in filterfalse(seen.__contains__, iterable):\n",
    "            seen.add(element)\n",
    "            yield element\n",
    "    else:\n",
    "        for element in iterable:\n",
    "            k = key(element)\n",
    "            if k not in seen:\n",
    "                seen.add(k)"
   ]
  },
  {
   "cell_type": "code",
   "execution_count": null,
   "metadata": {},
   "outputs": [],
   "source": [
    ""
   ]
  },
  {
   "cell_type": "code",
   "execution_count": null,
   "outputs": [],
   "source": [
    ""
   ]
  },
  {
   "cell_type": "code",
   "execution_count": null,
   "metadata": {},
   "outputs": [],
   "source": [
    ""
   ]
  }
 ],
 "metadata": {},
 "nbformat": 4,
 "nbformat_minor": 0
}