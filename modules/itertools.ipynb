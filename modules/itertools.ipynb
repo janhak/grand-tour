{
 "cells": [
  {
   "cell_type": "code",
   "execution_count": null,
   "metadata": {
    "collapsed": true
   },
   "outputs": [],
   "source": [
    "\"\"\"Hidden Gem chock full of exciting functions for\n",
    "efficient looping.\"\"\"\n",
    "\n",
    "from itertools import (islice, count, groupby, chain, repeat, \n",
    "                       starmap, tee, cycle, zip_longest, \n",
    "                       filterfalse)\n",
    "from collections import deque\n",
    "import operator"
   ]
  },
  {
   "cell_type": "code",
   "execution_count": null,
   "metadata": {
    "collapsed": false
   },
   "outputs": [],
   "source": [
    "def take(n, iterable):\n",
    "    \"\"\"Return first n items of iterable as a list\"\"\"\n",
    "    return list(islice(iterable, n))\n",
    "\n",
    "print(take(4, range(1, 1231)))"
   ]
  },
  {
   "cell_type": "code",
   "execution_count": null,
   "metadata": {
    "collapsed": false
   },
   "outputs": [],
   "source": [
    "def tabulate(function, start=0):\n",
    "    \"\"\"Return function(0), function(1), ...\"\"\"\n",
    "    return map(function, count(start))\n",
    "\n",
    "print(take(4, tabulate(lambda x: x**2, start=2)))"
   ]
  },
  {
   "cell_type": "code",
   "execution_count": null,
   "metadata": {
    "collapsed": false
   },
   "outputs": [],
   "source": [
    "def tail(n, iterable):\n",
    "    \"\"\"Return n last items of iterable as a list\"\"\"\n",
    "    return list(deque(iterable, maxlen=n))\n",
    "\n",
    "print(tail(4, range(11)))"
   ]
  },
  {
   "cell_type": "code",
   "execution_count": null,
   "metadata": {
    "collapsed": false
   },
   "outputs": [],
   "source": [
    "def tail_iter(n, iterable):\n",
    "    \"\"\"Return n last items of iterable as a list\"\"\"\n",
    "    return iter(deque(iterable, maxlen=n))\n",
    "\n",
    "print(tail_iter(4, range(11)))"
   ]
  },
  {
   "cell_type": "code",
   "execution_count": null,
   "metadata": {
    "collapsed": true
   },
   "outputs": [],
   "source": [
    "# TODO check why this code isn't working\n",
    "def consume(iterator, n):\n",
    "    \"\"\"Advance the iterator n-steps. If n is None, consume\n",
    "    entire iterator.\"\"\"\n",
    "    if n is None:\n",
    "        # Feed entire iterator into zero length deque\n",
    "        deque(iterator, maxlen=0)\n",
    "    else:\n",
    "        next(islice(iterator, n, n), None)"
   ]
  },
  {
   "cell_type": "code",
   "execution_count": null,
   "metadata": {
    "collapsed": false
   },
   "outputs": [],
   "source": [
    "def nth(iterable, n, default=None):\n",
    "    \"\"\"Returns the nth item from iterator or default value\"\"\"\n",
    "    return next(islice(iterable, n, None), default)\n",
    "\n",
    "n = range(10)\n",
    "nth(n, 5)"
   ]
  },
  {
   "cell_type": "code",
   "execution_count": null,
   "metadata": {
    "collapsed": false
   },
   "outputs": [],
   "source": [
    "def all_equal(iterable):\n",
    "    g = groupby(iterable)\n",
    "    return next(g, True) and not next(g, False)\n",
    "\n",
    "r = [1] * 10\n",
    "print(all_equal(r))"
   ]
  },
  {
   "cell_type": "code",
   "execution_count": null,
   "metadata": {
    "collapsed": false
   },
   "outputs": [],
   "source": [
    "list_with_multiples = [1, 1, 1, 2, 2, 1, 3, 4, 5, 6, 6, 6, 2, 2, 1, 5]\n",
    "list_with_multiples.sort()\n",
    "for k, v in groupby(list_with_multiples):\n",
    "    print('Group {}'.format(k), end=' ')\n",
    "    print('Elements: {}'.format(list(v)))"
   ]
  },
  {
   "cell_type": "code",
   "execution_count": null,
   "metadata": {
    "collapsed": false
   },
   "outputs": [],
   "source": [
    "def quantify(iterable, pred=bool):\n",
    "    \"\"\"Count how many timed predicate is True.\"\"\"\n",
    "    return sum(map(pred, iterable))\n",
    "\n",
    "quantify(range(11), pred=lambda x: x <= 5)\n",
    "\n",
    "# IMHO the one below is more Pythonic\n",
    "sum(1 for x in range(11) if x <= 5)"
   ]
  },
  {
   "cell_type": "code",
   "execution_count": null,
   "metadata": {
    "collapsed": false
   },
   "outputs": [],
   "source": [
    "def padnone(iterable):\n",
    "    \"\"\"Return sequence elements followed by None indefinitely.\"\"\"\n",
    "    return chain(iterable, repeat(None))"
   ]
  },
  {
   "cell_type": "code",
   "execution_count": null,
   "metadata": {
    "collapsed": false
   },
   "outputs": [],
   "source": [
    "def ncycles(iterable, n):\n",
    "    return chain.from_iterable(repeat(iterable, n))\n",
    "\n",
    "a_list = [x for x in ncycles(range(4), 3)]\n",
    "print(a_list)"
   ]
  },
  {
   "cell_type": "code",
   "execution_count": null,
   "metadata": {
    "collapsed": false
   },
   "outputs": [],
   "source": [
    "# Doesn't really relate to itertools more to functional coding in python\n",
    "def dotproduct(vec1, vec2):\n",
    "    return sum(map(operator.mul, vec1, vec2))\n",
    "\n",
    "dotproduct([1, 1, 1], [4, 6, 8])"
   ]
  },
  {
   "cell_type": "code",
   "execution_count": null,
   "metadata": {
    "collapsed": false
   },
   "outputs": [],
   "source": [
    "def flatten(list_of_lists):\n",
    "    \"\"\"Flatten one level of nesting\"\"\"\n",
    "    return chain.from_iterable(list_of_lists)\n",
    "\n",
    "list(flatten([[1, [2, 5, 6]], [5, 7, 8], [8, 8, 8]]))"
   ]
  },
  {
   "cell_type": "code",
   "execution_count": null,
   "metadata": {
    "collapsed": false
   },
   "outputs": [],
   "source": [
    "def repeatfunc(func, *args, times=None):\n",
    "    \"\"\"Repeat calls to func with specified arguments.\"\"\"\n",
    "    return starmap(func, repeat(args, times or 1))\n",
    "\n",
    "a = repeatfunc(sum, (4, 6, 7))\n",
    "next(a)"
   ]
  },
  {
   "cell_type": "code",
   "execution_count": null,
   "metadata": {
    "collapsed": false
   },
   "outputs": [],
   "source": [
    "def sum_of_squares(x, y):\n",
    "    return x ** 2 + y ** 2\n",
    "\n",
    "iterable = zip([1, 2, 3], [3, 3, 4])\n",
    "list(starmap(sum_of_squares, iterable))"
   ]
  },
  {
   "cell_type": "code",
   "execution_count": null,
   "metadata": {
    "collapsed": false
   },
   "outputs": [],
   "source": [
    "def pairwise(iterable):\n",
    "    \"\"\"s -> (s0, s1), (s1, s2), ...\"\"\"\n",
    "    a, b = tee(iterable) \n",
    "    next(b)\n",
    "    return zip(a, b)\n",
    "\n",
    "s = range(11)\n",
    "list(pairwise(s))"
   ]
  },
  {
   "cell_type": "code",
   "execution_count": null,
   "metadata": {
    "collapsed": false
   },
   "outputs": [],
   "source": [
    "def grouper(iterable, n, fillvalue=None):\n",
    "    \"\"\"Collect data into fixed-length chunks.\"\"\"\n",
    "    args = [iter(iterable)] * n\n",
    "    return zip_longest(*args, fillvalue=fillvalue)\n",
    "\n",
    "list(grouper(range(11), 3, 'X'))"
   ]
  },
  {
   "cell_type": "code",
   "execution_count": null,
   "metadata": {
    "collapsed": false
   },
   "outputs": [],
   "source": [
    "def partition(pred, iterable):\n",
    "    \"\"\"Use predicate to partition iterable into\n",
    "    false and true entries.\"\"\"\n",
    "    t1, t2 = tee(iterable)\n",
    "    return filterfalse(pred, t1), filter(pred, t2)\n",
    "\n",
    "false, true = partition(lambda x: x % 2 == 0, range(11))\n",
    "print(*false)\n",
    "print(*true)"
   ]
  },
  {
   "cell_type": "code",
   "execution_count": null,
   "metadata": {
    "collapsed": false
   },
   "outputs": [],
   "source": [
    "def unique_everseen(iterable, key=None):\n",
    "    \"\"\"List unique elements, preserving order.\"\"\"\n",
    "    seen = set()\n",
    "    if key is None:\n",
    "        for element in filterfalse(seen.__contains__, iterable):\n",
    "            seen.add(element)\n",
    "            yield element\n",
    "    else:\n",
    "        for element in iterable:\n",
    "            k = key(element)\n",
    "            if k not in seen:\n",
    "                seen.add(k)\n",
    "                yield element\n",
    "\n",
    "list(unique_everseen([1, 2, 3, 1, 5, 7, 7, 8, 2,  9]))"
   ]
  },
  {
   "cell_type": "code",
   "execution_count": null,
   "metadata": {
    "collapsed": false
   },
   "outputs": [],
   "source": [
    "def unique_everseen_simple(iterable):\n",
    "    seen = set()\n",
    "    for element in iterable:\n",
    "        if element not in seen:\n",
    "            seen.add(element)\n",
    "            yield element\n",
    "\n",
    "list(unique_everseen_simple([1, 2, 3, 1, 5, 7, 7, 8, 2,  9]))"
   ]
  }
 ],
 "metadata": {
  "kernelspec": {
   "display_name": "Python 3",
   "language": "python",
   "name": "python3"
  },
  "language_info": {
   "codemirror_mode": {
    "name": "ipython",
    "version": 3.0
   },
   "file_extension": ".py",
   "mimetype": "text/x-python",
   "name": "python",
   "nbconvert_exporter": "python",
   "pygments_lexer": "ipython3",
   "version": "3.5.2"
  }
 },
 "nbformat": 4,
 "nbformat_minor": 0
}